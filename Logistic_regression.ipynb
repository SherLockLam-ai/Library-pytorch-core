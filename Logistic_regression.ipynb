{
  "cells": [
    {
      "cell_type": "code",
      "execution_count": 1,
      "metadata": {
        "id": "axDOzm6e7F4f"
      },
      "outputs": [],
      "source": [
        "import torch \n",
        "import torchvision\n",
        "import torch.nn as nn\n",
        "import torchvision.transforms as transforms"
      ]
    },
    {
      "cell_type": "markdown",
      "metadata": {
        "id": "KvCRQeUK7hMK"
      },
      "source": [
        "# Set hyper-params"
      ]
    },
    {
      "cell_type": "code",
      "execution_count": 2,
      "metadata": {
        "id": "4avsDpL87jhf"
      },
      "outputs": [],
      "source": [
        "input_size = 28*28\n",
        "num_classes = 10\n",
        "num_epochs = 10\n",
        "batch_size = 100\n",
        "learning_rate = 0.001"
      ]
    },
    {
      "cell_type": "markdown",
      "metadata": {
        "id": "41I55db57nWS"
      },
      "source": [
        "# CIFAR-10 dataset"
      ]
    },
    {
      "cell_type": "code",
      "execution_count": null,
      "metadata": {
        "id": "HlRhUJ1aP10-"
      },
      "outputs": [],
      "source": [
        "!wget www.di.ens.fr/~lelarge/MNIST.tar.gz\n",
        "!tar -zxvf MNIST.tar.gz"
      ]
    },
    {
      "cell_type": "code",
      "execution_count": 3,
      "metadata": {
        "id": "bal0my717qGO"
      },
      "outputs": [],
      "source": [
        "train_dataset = torchvision.datasets.MNIST(root='./', \n",
        "                                           train=True, \n",
        "                                           transform=transforms.ToTensor(),\n",
        "                                           download=True)\n",
        "\n",
        "test_dataset = torchvision.datasets.MNIST(root='./', \n",
        "                                          train=False, \n",
        "                                          transform=transforms.ToTensor())\n",
        "\n",
        "# Data loader (input pipeline)\n",
        "train_loader = torch.utils.data.DataLoader(dataset=train_dataset, \n",
        "                                           batch_size=batch_size, \n",
        "                                           shuffle=True)\n",
        "\n",
        "test_loader = torch.utils.data.DataLoader(dataset=test_dataset, \n",
        "                                          batch_size=batch_size, \n",
        "                                          shuffle=False)"
      ]
    },
    {
      "cell_type": "markdown",
      "metadata": {
        "id": "V1p04_p07_Mx"
      },
      "source": [
        "# Create logistic regression model"
      ]
    },
    {
      "cell_type": "code",
      "execution_count": 4,
      "metadata": {
        "id": "u8PazUty8BEe"
      },
      "outputs": [],
      "source": [
        "model = nn.Linear(input_size, num_classes)"
      ]
    },
    {
      "cell_type": "markdown",
      "metadata": {
        "id": "gmzohJ7-8Goq"
      },
      "source": [
        "# Loss and optimizer"
      ]
    },
    {
      "cell_type": "code",
      "execution_count": 6,
      "metadata": {
        "id": "-HxcOZlZ8IIv"
      },
      "outputs": [],
      "source": [
        "criterion = nn.CrossEntropyLoss()\n",
        "optimizer = torch.optim.SGD(model.parameters(), lr=learning_rate)"
      ]
    },
    {
      "cell_type": "markdown",
      "metadata": {
        "id": "U-nu7HQe8Vci"
      },
      "source": [
        "# Train model"
      ]
    },
    {
      "cell_type": "code",
      "execution_count": 7,
      "metadata": {
        "colab": {
          "base_uri": "https://localhost:8080/"
        },
        "id": "braftAK78WWm",
        "outputId": "a787cc6b-82f8-4c40-ac22-5741b77d5d9b"
      },
      "outputs": [
        {
          "name": "stdout",
          "output_type": "stream",
          "text": [
            "Epoch [1/10], Step [100/600], Loss: 2.20538067817688\n",
            "Epoch [1/10], Step [200/600], Loss: 2.150702714920044\n",
            "Epoch [1/10], Step [300/600], Loss: 2.0327565670013428\n",
            "Epoch [1/10], Step [400/600], Loss: 1.9329712390899658\n",
            "Epoch [1/10], Step [500/600], Loss: 1.8697079420089722\n",
            "Epoch [1/10], Step [600/600], Loss: 1.827599287033081\n",
            "Epoch [2/10], Step [100/600], Loss: 1.7115004062652588\n",
            "Epoch [2/10], Step [200/600], Loss: 1.6478251218795776\n",
            "Epoch [2/10], Step [300/600], Loss: 1.6571251153945923\n",
            "Epoch [2/10], Step [400/600], Loss: 1.5286588668823242\n",
            "Epoch [2/10], Step [500/600], Loss: 1.5100370645523071\n",
            "Epoch [2/10], Step [600/600], Loss: 1.5477768182754517\n",
            "Epoch [3/10], Step [100/600], Loss: 1.3350709676742554\n",
            "Epoch [3/10], Step [200/600], Loss: 1.3477046489715576\n",
            "Epoch [3/10], Step [300/600], Loss: 1.3414307832717896\n",
            "Epoch [3/10], Step [400/600], Loss: 1.3184930086135864\n",
            "Epoch [3/10], Step [500/600], Loss: 1.3043997287750244\n",
            "Epoch [3/10], Step [600/600], Loss: 1.2914760112762451\n",
            "Epoch [4/10], Step [100/600], Loss: 1.221638560295105\n",
            "Epoch [4/10], Step [200/600], Loss: 1.2383122444152832\n",
            "Epoch [4/10], Step [300/600], Loss: 1.111223578453064\n",
            "Epoch [4/10], Step [400/600], Loss: 1.1440283060073853\n",
            "Epoch [4/10], Step [500/600], Loss: 1.173713207244873\n",
            "Epoch [4/10], Step [600/600], Loss: 1.0804842710494995\n",
            "Epoch [5/10], Step [100/600], Loss: 1.115220069885254\n",
            "Epoch [5/10], Step [200/600], Loss: 1.0918455123901367\n",
            "Epoch [5/10], Step [300/600], Loss: 1.137507438659668\n",
            "Epoch [5/10], Step [400/600], Loss: 1.1409657001495361\n",
            "Epoch [5/10], Step [500/600], Loss: 0.9872855544090271\n",
            "Epoch [5/10], Step [600/600], Loss: 0.9249311089515686\n",
            "Epoch [6/10], Step [100/600], Loss: 1.0322926044464111\n",
            "Epoch [6/10], Step [200/600], Loss: 1.0124725103378296\n",
            "Epoch [6/10], Step [300/600], Loss: 1.040167212486267\n",
            "Epoch [6/10], Step [400/600], Loss: 1.0156992673873901\n",
            "Epoch [6/10], Step [500/600], Loss: 0.9695973992347717\n",
            "Epoch [6/10], Step [600/600], Loss: 0.9449406266212463\n",
            "Epoch [7/10], Step [100/600], Loss: 0.9872275590896606\n",
            "Epoch [7/10], Step [200/600], Loss: 0.8967545032501221\n",
            "Epoch [7/10], Step [300/600], Loss: 0.8421939611434937\n",
            "Epoch [7/10], Step [400/600], Loss: 0.8415900468826294\n",
            "Epoch [7/10], Step [500/600], Loss: 0.9344016909599304\n",
            "Epoch [7/10], Step [600/600], Loss: 0.7978092432022095\n",
            "Epoch [8/10], Step [100/600], Loss: 0.8922051191329956\n",
            "Epoch [8/10], Step [200/600], Loss: 0.7690154314041138\n",
            "Epoch [8/10], Step [300/600], Loss: 0.816801130771637\n",
            "Epoch [8/10], Step [400/600], Loss: 0.7991790771484375\n",
            "Epoch [8/10], Step [500/600], Loss: 0.8475731611251831\n",
            "Epoch [8/10], Step [600/600], Loss: 0.8461275696754456\n",
            "Epoch [9/10], Step [100/600], Loss: 0.7316181659698486\n",
            "Epoch [9/10], Step [200/600], Loss: 0.7505574226379395\n",
            "Epoch [9/10], Step [300/600], Loss: 0.8893545269966125\n",
            "Epoch [9/10], Step [400/600], Loss: 0.7967876195907593\n",
            "Epoch [9/10], Step [500/600], Loss: 0.6714205145835876\n",
            "Epoch [9/10], Step [600/600], Loss: 0.838809072971344\n",
            "Epoch [10/10], Step [100/600], Loss: 0.7893001437187195\n",
            "Epoch [10/10], Step [200/600], Loss: 0.9292344450950623\n",
            "Epoch [10/10], Step [300/600], Loss: 0.8003576397895813\n",
            "Epoch [10/10], Step [400/600], Loss: 0.756365954875946\n",
            "Epoch [10/10], Step [500/600], Loss: 0.6963797807693481\n",
            "Epoch [10/10], Step [600/600], Loss: 0.7405558824539185\n"
          ]
        }
      ],
      "source": [
        "total_step = len(train_loader)\n",
        "for epoch in range(num_epochs):\n",
        "  for i, (images, labels) in enumerate(train_loader):\n",
        "    # reshape image to (batch_size, input_size)\n",
        "    images = images.reshape(-1, input_size)\n",
        "\n",
        "    # forward pass\n",
        "    outputs = model(images)\n",
        "    loss = criterion(outputs, labels)\n",
        "\n",
        "    # backward and optimize\n",
        "    optimizer.zero_grad()\n",
        "    loss.backward()\n",
        "    optimizer.step()\n",
        "\n",
        "    if (i+1)%100 == 0:\n",
        "      print ('Epoch [{}/{}], Step [{}/{}], Loss: {}' \n",
        "              .format(epoch+1, num_epochs, i+1, total_step, loss.item()))"
      ]
    },
    {
      "cell_type": "markdown",
      "metadata": {
        "id": "l8qE8ITbQkfI"
      },
      "source": [
        "# Test model"
      ]
    },
    {
      "cell_type": "code",
      "execution_count": 8,
      "metadata": {
        "colab": {
          "base_uri": "https://localhost:8080/"
        },
        "id": "2__2ArCtQg2m",
        "outputId": "5b987e32-c75c-4714-9fa9-3140cf0fc72a"
      },
      "outputs": [
        {
          "name": "stdout",
          "output_type": "stream",
          "text": [
            "Acc:  tensor(85.2600)\n"
          ]
        }
      ],
      "source": [
        "with torch.no_grad():\n",
        "  correct = 0\n",
        "  total = 0\n",
        "  for images, labels, in test_loader:\n",
        "    images = images.reshape(-1, input_size)\n",
        "    outputs = model(images)\n",
        "    _, predicted = torch.max(outputs.data, 1)\n",
        "    total += labels.size(0)\n",
        "    correct += (predicted == labels).sum()\n",
        "\n",
        "  print(\"Acc: \", (100*correct)/total)"
      ]
    },
    {
      "cell_type": "markdown",
      "metadata": {
        "id": "dJLoObJ_RXsV"
      },
      "source": [
        "# Save model"
      ]
    },
    {
      "cell_type": "code",
      "execution_count": 9,
      "metadata": {
        "id": "CFjlhxN5RZFc"
      },
      "outputs": [],
      "source": [
        "torch.save(model.state_dict(), 'logistic_regression_model.ckpt')"
      ]
    }
  ],
  "metadata": {
    "colab": {
      "name": "Logistic_regression.ipynb",
      "provenance": []
    },
    "kernelspec": {
      "display_name": ".venv",
      "language": "python",
      "name": "python3"
    },
    "language_info": {
      "codemirror_mode": {
        "name": "ipython",
        "version": 3
      },
      "file_extension": ".py",
      "mimetype": "text/x-python",
      "name": "python",
      "nbconvert_exporter": "python",
      "pygments_lexer": "ipython3",
      "version": "3.12.9"
    }
  },
  "nbformat": 4,
  "nbformat_minor": 0
}
