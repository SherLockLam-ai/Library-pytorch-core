{
 "cells": [
  {
   "cell_type": "markdown",
   "metadata": {
    "id": "K5el2p0mKifP"
   },
   "source": [
    "# Simple linear regression\n",
    "f = x * w"
   ]
  },
  {
   "cell_type": "code",
   "execution_count": 1,
   "metadata": {
    "executionInfo": {
     "elapsed": 1,
     "status": "ok",
     "timestamp": 1626403784421,
     "user": {
      "displayName": "Hung An Minh",
      "photoUrl": "",
      "userId": "05267040817390776748"
     },
     "user_tz": -420
    },
    "id": "ojX-z8_JJrML"
   },
   "outputs": [],
   "source": [
    "import torch \n",
    "\n",
    "x = torch.tensor([1, 2, 3, 4], dtype=torch.float32)\n",
    "y = torch.tensor([2, 4, 6, 8], dtype=torch.float32)\n",
    "\n",
    "w = torch.tensor(1.0, dtype=torch.float32, requires_grad=True)"
   ]
  },
  {
   "cell_type": "code",
   "execution_count": 2,
   "metadata": {
    "executionInfo": {
     "elapsed": 4,
     "status": "ok",
     "timestamp": 1626403784850,
     "user": {
      "displayName": "Hung An Minh",
      "photoUrl": "",
      "userId": "05267040817390776748"
     },
     "user_tz": -420
    },
    "id": "68y-Yx2lLADP"
   },
   "outputs": [],
   "source": [
    "def forward(x):\n",
    "  return x * w"
   ]
  },
  {
   "cell_type": "code",
   "execution_count": 3,
   "metadata": {
    "executionInfo": {
     "elapsed": 3,
     "status": "ok",
     "timestamp": 1626403784850,
     "user": {
      "displayName": "Hung An Minh",
      "photoUrl": "",
      "userId": "05267040817390776748"
     },
     "user_tz": -420
    },
    "id": "SZIMCt8CLQ5v"
   },
   "outputs": [],
   "source": [
    "def loss(y, y_pred):\n",
    "  return ((y_pred - y)**2).mean()"
   ]
  },
  {
   "cell_type": "code",
   "execution_count": 4,
   "metadata": {
    "colab": {
     "base_uri": "https://localhost:8080/"
    },
    "executionInfo": {
     "elapsed": 3,
     "status": "ok",
     "timestamp": 1626403784850,
     "user": {
      "displayName": "Hung An Minh",
      "photoUrl": "",
      "userId": "05267040817390776748"
     },
     "user_tz": -420
    },
    "id": "T_1ww5HyLaoP",
    "outputId": "fb19d21b-ffd5-469d-fe13-01e87d201da6"
   },
   "outputs": [
    {
     "name": "stdout",
     "output_type": "stream",
     "text": [
      "epoch 1: w = 1.150, loss = 7.50000000\n",
      "epoch 11: w = 1.833, loss = 0.29069635\n",
      "epoch 21: w = 1.967, loss = 0.01126729\n",
      "epoch 31: w = 1.994, loss = 0.00043671\n",
      "epoch 41: w = 1.999, loss = 0.00001693\n",
      "epoch 51: w = 2.000, loss = 0.00000066\n",
      "epoch 61: w = 2.000, loss = 0.00000003\n",
      "epoch 71: w = 2.000, loss = 0.00000000\n",
      "epoch 81: w = 2.000, loss = 0.00000000\n",
      "epoch 91: w = 2.000, loss = 0.00000000\n"
     ]
    }
   ],
   "source": [
    "learning_rate = 0.01\n",
    "epochs = 100\n",
    "\n",
    "for epoch in range(epochs):\n",
    "  # predict with forward\n",
    "  y_pred = forward(x)\n",
    "\n",
    "  # calculate loss\n",
    "  l = loss(y, y_pred)\n",
    "\n",
    "  # calculate gradient with backward\n",
    "  l.backward()\n",
    "\n",
    "  # update weight\n",
    "  with torch.no_grad():\n",
    "    w -= learning_rate * w.grad\n",
    "  \n",
    "  # set empty gradient\n",
    "  w.grad.zero_()\n",
    "\n",
    "  if epoch % 10 == 0:\n",
    "    print(f'epoch {epoch+1}: w = {w.item():.3f}, loss = {l.item():.8f}')"
   ]
  },
  {
   "cell_type": "code",
   "execution_count": 5,
   "metadata": {
    "colab": {
     "base_uri": "https://localhost:8080/"
    },
    "executionInfo": {
     "elapsed": 2,
     "status": "ok",
     "timestamp": 1626403784850,
     "user": {
      "displayName": "Hung An Minh",
      "photoUrl": "",
      "userId": "05267040817390776748"
     },
     "user_tz": -420
    },
    "id": "ZynvQxQyMdiI",
    "outputId": "93c1b1f9-c591-492e-d5d7-1ff4b47ac99c"
   },
   "outputs": [
    {
     "name": "stdout",
     "output_type": "stream",
     "text": [
      "tensor(10.0000)\n"
     ]
    }
   ],
   "source": [
    "# predict\n",
    "with torch.no_grad():\n",
    "  new_x = torch.tensor(5, dtype=torch.float32)\n",
    "  pred = new_x * w\n",
    "  print(pred)"
   ]
  }
 ],
 "metadata": {
  "colab": {
   "authorship_tag": "ABX9TyORtinG/V/1Gno5z4M02QW/",
   "collapsed_sections": [],
   "name": "Gradient_Descent_using_autograd.ipynb",
   "provenance": []
  },
  "kernelspec": {
   "display_name": ".venv",
   "language": "python",
   "name": "python3"
  },
  "language_info": {
   "codemirror_mode": {
    "name": "ipython",
    "version": 3
   },
   "file_extension": ".py",
   "mimetype": "text/x-python",
   "name": "python",
   "nbconvert_exporter": "python",
   "pygments_lexer": "ipython3",
   "version": "3.12.9"
  }
 },
 "nbformat": 4,
 "nbformat_minor": 0
}
