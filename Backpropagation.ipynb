{
 "cells": [
  {
   "cell_type": "code",
   "execution_count": 1,
   "metadata": {
    "executionInfo": {
     "elapsed": 4635,
     "status": "ok",
     "timestamp": 1626401915385,
     "user": {
      "displayName": "Hung An Minh",
      "photoUrl": "",
      "userId": "05267040817390776748"
     },
     "user_tz": -420
    },
    "id": "JT8xggv8F1Fa"
   },
   "outputs": [],
   "source": [
    "import torch"
   ]
  },
  {
   "cell_type": "code",
   "execution_count": 2,
   "metadata": {
    "executionInfo": {
     "elapsed": 297,
     "status": "ok",
     "timestamp": 1626401932556,
     "user": {
      "displayName": "Hung An Minh",
      "photoUrl": "",
      "userId": "05267040817390776748"
     },
     "user_tz": -420
    },
    "id": "-BNk7QWBG4Me"
   },
   "outputs": [],
   "source": [
    "x = torch.tensor(1.0)\n",
    "y = torch.tensor(3.0)"
   ]
  },
  {
   "cell_type": "code",
   "execution_count": 3,
   "metadata": {
    "executionInfo": {
     "elapsed": 302,
     "status": "ok",
     "timestamp": 1626401947167,
     "user": {
      "displayName": "Hung An Minh",
      "photoUrl": "",
      "userId": "05267040817390776748"
     },
     "user_tz": -420
    },
    "id": "ttEqGHn3HAVO"
   },
   "outputs": [],
   "source": [
    "w = torch.tensor(0.1, requires_grad=True) # w cần được tối ưu"
   ]
  },
  {
   "cell_type": "code",
   "execution_count": 4,
   "metadata": {
    "colab": {
     "base_uri": "https://localhost:8080/"
    },
    "executionInfo": {
     "elapsed": 312,
     "status": "ok",
     "timestamp": 1626402152254,
     "user": {
      "displayName": "Hung An Minh",
      "photoUrl": "",
      "userId": "05267040817390776748"
     },
     "user_tz": -420
    },
    "id": "TKM94MvyHrBG",
    "outputId": "4c470502-b65a-4b31-cce6-728d537bb1b9"
   },
   "outputs": [
    {
     "name": "stdout",
     "output_type": "stream",
     "text": [
      "tensor(8.4100, grad_fn=<PowBackward0>)\n"
     ]
    }
   ],
   "source": [
    "# predict and compute loss\n",
    "y_predict = x * w \n",
    "loss = pow(y_predict-y, 2)\n",
    "print(loss)"
   ]
  },
  {
   "cell_type": "code",
   "execution_count": 5,
   "metadata": {
    "colab": {
     "base_uri": "https://localhost:8080/"
    },
    "executionInfo": {
     "elapsed": 311,
     "status": "ok",
     "timestamp": 1626402241652,
     "user": {
      "displayName": "Hung An Minh",
      "photoUrl": "",
      "userId": "05267040817390776748"
     },
     "user_tz": -420
    },
    "id": "PrstiPsPH2UG",
    "outputId": "ef0d5abe-63d8-429d-fba6-3414d0fe918b"
   },
   "outputs": [
    {
     "name": "stdout",
     "output_type": "stream",
     "text": [
      "tensor(-5.8000)\n"
     ]
    }
   ],
   "source": [
    "# backward pass to compute gradient dLoss/dw\n",
    "loss.backward()\n",
    "print(w.grad)"
   ]
  },
  {
   "cell_type": "code",
   "execution_count": 6,
   "metadata": {
    "executionInfo": {
     "elapsed": 299,
     "status": "ok",
     "timestamp": 1626402297941,
     "user": {
      "displayName": "Hung An Minh",
      "photoUrl": "",
      "userId": "05267040817390776748"
     },
     "user_tz": -420
    },
    "id": "ujNJEmIAIRlP"
   },
   "outputs": [],
   "source": [
    "# update weight\n",
    "with torch.no_grad():\n",
    "  w -= 0.001 * w.grad"
   ]
  },
  {
   "cell_type": "code",
   "execution_count": 7,
   "metadata": {
    "colab": {
     "base_uri": "https://localhost:8080/"
    },
    "executionInfo": {
     "elapsed": 328,
     "status": "ok",
     "timestamp": 1626402317555,
     "user": {
      "displayName": "Hung An Minh",
      "photoUrl": "",
      "userId": "05267040817390776748"
     },
     "user_tz": -420
    },
    "id": "gFX5q1e2IbvP",
    "outputId": "fc1e2549-e63c-4862-bf24-56bfc5570d7c"
   },
   "outputs": [
    {
     "name": "stdout",
     "output_type": "stream",
     "text": [
      "tensor(0.1058, requires_grad=True)\n"
     ]
    }
   ],
   "source": [
    "# print new w\n",
    "print(w)"
   ]
  },
  {
   "cell_type": "code",
   "execution_count": 8,
   "metadata": {
    "colab": {
     "base_uri": "https://localhost:8080/"
    },
    "executionInfo": {
     "elapsed": 308,
     "status": "ok",
     "timestamp": 1626402350529,
     "user": {
      "displayName": "Hung An Minh",
      "photoUrl": "",
      "userId": "05267040817390776748"
     },
     "user_tz": -420
    },
    "id": "fXh4HyWgIetv",
    "outputId": "e6437556-9713-44cf-9591-c30478cf8789"
   },
   "outputs": [
    {
     "data": {
      "text/plain": [
       "tensor(0.)"
      ]
     },
     "execution_count": 8,
     "metadata": {},
     "output_type": "execute_result"
    }
   ],
   "source": [
    "# set empty gradient \n",
    "w.grad.zero_()"
   ]
  }
 ],
 "metadata": {
  "colab": {
   "authorship_tag": "ABX9TyOJF9Vj6T//knLRbRJ+qPn0",
   "collapsed_sections": [],
   "name": "Backpropagation.ipynb",
   "provenance": []
  },
  "kernelspec": {
   "display_name": ".venv",
   "language": "python",
   "name": "python3"
  },
  "language_info": {
   "codemirror_mode": {
    "name": "ipython",
    "version": 3
   },
   "file_extension": ".py",
   "mimetype": "text/x-python",
   "name": "python",
   "nbconvert_exporter": "python",
   "pygments_lexer": "ipython3",
   "version": "3.12.9"
  }
 },
 "nbformat": 4,
 "nbformat_minor": 0
}
