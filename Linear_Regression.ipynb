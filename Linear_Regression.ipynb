{
  "cells": [
    {
      "cell_type": "code",
      "execution_count": 1,
      "metadata": {
        "id": "ekvQHNHvvlur"
      },
      "outputs": [],
      "source": [
        "import torch\n",
        "import torchvision\n",
        "import numpy as np\n",
        "import torch.nn as nn\n",
        "import matplotlib.pyplot as plt"
      ]
    },
    {
      "cell_type": "markdown",
      "metadata": {
        "id": "8ey1d2zEwiUf"
      },
      "source": [
        "# Set hyper-params"
      ]
    },
    {
      "cell_type": "code",
      "execution_count": 2,
      "metadata": {
        "id": "EhRT3w0iv-zc"
      },
      "outputs": [],
      "source": [
        "input_size = 1\n",
        "output_size = 1\n",
        "num_epochs = 10\n",
        "learning_rate = 0.001"
      ]
    },
    {
      "cell_type": "markdown",
      "metadata": {
        "id": "pLH6fZJPwljy"
      },
      "source": [
        "# Create dataset\n"
      ]
    },
    {
      "cell_type": "code",
      "execution_count": 3,
      "metadata": {
        "id": "RV51xrWTwZOi"
      },
      "outputs": [],
      "source": [
        "x_train = np.array([[3.3], [4.4], [5.5], [6.71], [6.93], [4.168], \n",
        "                    [9.779], [6.182], [7.59], [2.167], [7.042], \n",
        "                    [10.791], [5.313], [7.997], [3.1]], dtype=np.float32)\n",
        "\n",
        "y_train = np.array([[1.7], [2.76], [2.09], [3.19], [1.694], [1.573], \n",
        "                    [3.366], [2.596], [2.53], [1.221], [2.827], \n",
        "                    [3.465], [1.65], [2.904], [1.3]], dtype=np.float32)"
      ]
    },
    {
      "cell_type": "markdown",
      "metadata": {
        "id": "bUhOyNhRwnEW"
      },
      "source": [
        "# Create linear model"
      ]
    },
    {
      "cell_type": "code",
      "execution_count": 4,
      "metadata": {
        "id": "Q-a4gFDfwc-S"
      },
      "outputs": [],
      "source": [
        "model = nn.Linear(input_size, output_size)"
      ]
    },
    {
      "cell_type": "markdown",
      "metadata": {
        "id": "xPL1Q9yDwtKz"
      },
      "source": [
        "# Loss and optimizer"
      ]
    },
    {
      "cell_type": "code",
      "execution_count": 5,
      "metadata": {
        "id": "bXHLgoPawwGV"
      },
      "outputs": [],
      "source": [
        "criterion = nn.MSELoss()\n",
        "optimizer = torch.optim.SGD(model.parameters(), lr=0.001)"
      ]
    },
    {
      "cell_type": "markdown",
      "metadata": {
        "id": "9RP620snw8Aj"
      },
      "source": [
        "# Train model"
      ]
    },
    {
      "cell_type": "code",
      "execution_count": 6,
      "metadata": {
        "colab": {
          "base_uri": "https://localhost:8080/"
        },
        "id": "IlOjmN0rw-H-",
        "outputId": "36ec5bdf-95c0-404b-99b2-761e52091242"
      },
      "outputs": [
        {
          "name": "stdout",
          "output_type": "stream",
          "text": [
            "Epoch: 4/10, Loss: 37.09126663208008\n",
            "Epoch: 9/10, Loss: 15.137457847595215\n"
          ]
        }
      ],
      "source": [
        "for epoch in range(num_epochs):\n",
        "  # chuyển numpy array sang torch tensor \n",
        "  inputs = torch.from_numpy(x_train)\n",
        "  targets = torch.from_numpy(y_train)\n",
        "\n",
        "  # lan truyền tới\n",
        "  outputs = model(inputs)\n",
        "  loss = criterion(outputs, targets)\n",
        "\n",
        "  # lan truyền ngược\n",
        "  optimizer.zero_grad()\n",
        "  loss.backward()\n",
        "\n",
        "  # optimizer \n",
        "  optimizer.step()\n",
        "\n",
        "  # Hiển thị thông tin huấn luyện\n",
        "  if (epoch+1)%5 == 0:\n",
        "    print(\"Epoch: {}/{}, Loss: {}\".format(epoch, num_epochs, loss.item()))"
      ]
    },
    {
      "cell_type": "markdown",
      "metadata": {
        "id": "e6-qYsnyyaQG"
      },
      "source": [
        "# Predict"
      ]
    },
    {
      "cell_type": "code",
      "execution_count": 7,
      "metadata": {
        "id": "A6o-fdrzybCn"
      },
      "outputs": [],
      "source": [
        "predicted = model(torch.from_numpy(x_train)).detach().numpy()"
      ]
    },
    {
      "cell_type": "markdown",
      "metadata": {
        "id": "X7aU-9LpyV-v"
      },
      "source": [
        "# Visualization\n"
      ]
    },
    {
      "cell_type": "code",
      "execution_count": 8,
      "metadata": {
        "id": "TSIbLG6kyX-2"
      },
      "outputs": [
        {
          "data": {
            "image/png": "[encoded data removed]",
            "text/plain": [
              "<Figure size 640x480 with 1 Axes>"
            ]
          },
          "metadata": {},
          "output_type": "display_data"
        },
        {
          "data": {
            "text/plain": [
              "<Figure size 640x480 with 0 Axes>"
            ]
          },
          "metadata": {},
          "output_type": "display_data"
        }
      ],
      "source": [
        "plt.plot(x_train, y_train, 'ro', label='Original data')\n",
        "plt.plot(x_train, predicted, label='Fitted line')\n",
        "plt.legend()\n",
        "plt.show()\n",
        "plt.savefig(\"fig_plot.jpg\")"
      ]
    },
    {
      "cell_type": "markdown",
      "metadata": {
        "id": "qz_Xy_cvy7NN"
      },
      "source": [
        "# Save model"
      ]
    },
    {
      "cell_type": "code",
      "execution_count": 9,
      "metadata": {
        "id": "P-dXIPL9y9fa"
      },
      "outputs": [],
      "source": [
        "torch.save(model.state_dict(), 'linear_model.ckpt')"
      ]
    }
  ],
  "metadata": {
    "colab": {
      "name": "Linear_Regression.ipynb",
      "provenance": []
    },
    "kernelspec": {
      "display_name": ".venv",
      "language": "python",
      "name": "python3"
    },
    "language_info": {
      "codemirror_mode": {
        "name": "ipython",
        "version": 3
      },
      "file_extension": ".py",
      "mimetype": "text/x-python",
      "name": "python",
      "nbconvert_exporter": "python",
      "pygments_lexer": "ipython3",
      "version": "3.12.9"
    }
  },
  "nbformat": 4,
  "nbformat_minor": 0
}
