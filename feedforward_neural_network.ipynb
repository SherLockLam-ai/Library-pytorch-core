{
  "cells": [
    {
      "cell_type": "code",
      "execution_count": 2,
      "metadata": {
        "id": "cJ7dwEeDlLEa"
      },
      "outputs": [],
      "source": [
        "import torch \n",
        "import torchvision\n",
        "import torch.nn as nn\n",
        "import torchvision.transforms as transforms"
      ]
    },
    {
      "cell_type": "markdown",
      "metadata": {
        "id": "cKUMZHWZliLq"
      },
      "source": [
        "# Devide configuration"
      ]
    },
    {
      "cell_type": "code",
      "execution_count": 3,
      "metadata": {
        "id": "x9HvCz0elhxb"
      },
      "outputs": [
        {
          "name": "stdout",
          "output_type": "stream",
          "text": [
            "cpu\n"
          ]
        }
      ],
      "source": [
        "device = torch.device('cuda' if torch.cuda.is_available() else 'cpu')\n",
        "print(device)"
      ]
    },
    {
      "cell_type": "markdown",
      "metadata": {
        "id": "RkqKZve8lzHA"
      },
      "source": [
        "# Hyper-parameters"
      ]
    },
    {
      "cell_type": "code",
      "execution_count": 4,
      "metadata": {
        "id": "RWtljeqIl368"
      },
      "outputs": [],
      "source": [
        "input_size = 28*28\n",
        "hidden_size = 500\n",
        "num_classes = 10\n",
        "num_epochs = 10 \n",
        "batch_size = 100\n",
        "learning_rate = 0.001"
      ]
    },
    {
      "cell_type": "markdown",
      "metadata": {
        "id": "QpoR8btTmCP-"
      },
      "source": [
        "# MNIST dataset"
      ]
    },
    {
      "cell_type": "code",
      "execution_count": 4,
      "metadata": {
        "colab": {
          "base_uri": "https://localhost:8080/"
        },
        "id": "35xHKxvsmGfd",
        "outputId": "6b8d839b-d580-449b-8e89-bec5d420d940"
      },
      "outputs": [
        {
          "name": "stdout",
          "output_type": "stream",
          "text": [
            "--2021-03-25 06:07:08--  http://www.di.ens.fr/~lelarge/MNIST.tar.gz\n",
            "Resolving www.di.ens.fr (www.di.ens.fr)... 129.199.99.14\n",
            "Connecting to www.di.ens.fr (www.di.ens.fr)|129.199.99.14|:80... connected.\n",
            "HTTP request sent, awaiting response... 302 Found\n",
            "Location: https://www.di.ens.fr/~lelarge/MNIST.tar.gz [following]\n",
            "--2021-03-25 06:07:09--  https://www.di.ens.fr/~lelarge/MNIST.tar.gz\n",
            "Connecting to www.di.ens.fr (www.di.ens.fr)|129.199.99.14|:443... connected.\n",
            "HTTP request sent, awaiting response... 200 OK\n",
            "Length: unspecified [application/x-gzip]\n",
            "Saving to: ‘MNIST.tar.gz.1’\n",
            "\n",
            "MNIST.tar.gz.1          [      <=>           ]  33.20M  5.01MB/s    in 18s     \n",
            "\n",
            "2021-03-25 06:07:28 (1.80 MB/s) - ‘MNIST.tar.gz.1’ saved [34813078]\n",
            "\n",
            "MNIST/\n",
            "MNIST/raw/\n",
            "MNIST/raw/train-labels-idx1-ubyte\n",
            "MNIST/raw/t10k-labels-idx1-ubyte.gz\n",
            "MNIST/raw/t10k-labels-idx1-ubyte\n",
            "MNIST/raw/t10k-images-idx3-ubyte.gz\n",
            "MNIST/raw/train-images-idx3-ubyte\n",
            "MNIST/raw/train-labels-idx1-ubyte.gz\n",
            "MNIST/raw/t10k-images-idx3-ubyte\n",
            "MNIST/raw/train-images-idx3-ubyte.gz\n",
            "MNIST/processed/\n",
            "MNIST/processed/training.pt\n",
            "MNIST/processed/test.pt\n"
          ]
        }
      ],
      "source": [
        "!wget www.di.ens.fr/~lelarge/MNIST.tar.gz\n",
        "!tar -zxvf MNIST.tar.gz"
      ]
    },
    {
      "cell_type": "code",
      "execution_count": 5,
      "metadata": {
        "id": "M2I-GSMgmLQL"
      },
      "outputs": [],
      "source": [
        "train_dataset = torchvision.datasets.MNIST(root='./', \n",
        "                                           train=True, \n",
        "                                           transform=transforms.ToTensor(),\n",
        "                                           download=True)\n",
        "\n",
        "test_dataset = torchvision.datasets.MNIST(root='./', \n",
        "                                          train=False, \n",
        "                                          transform=transforms.ToTensor())\n",
        "\n",
        "# Data loader (input pipeline)\n",
        "train_loader = torch.utils.data.DataLoader(dataset=train_dataset, \n",
        "                                           batch_size=batch_size, \n",
        "                                           shuffle=True)\n",
        "\n",
        "test_loader = torch.utils.data.DataLoader(dataset=test_dataset, \n",
        "                                          batch_size=batch_size, \n",
        "                                          shuffle=False)"
      ]
    },
    {
      "cell_type": "markdown",
      "metadata": {
        "id": "LzLdOMQImRyn"
      },
      "source": [
        "# Fully connected neural network with one hidden layer"
      ]
    },
    {
      "cell_type": "code",
      "execution_count": 6,
      "metadata": {
        "id": "JaPk7kLEmZih"
      },
      "outputs": [],
      "source": [
        "class NeuralNet(nn.Module):\n",
        "  def __init__(self, input_size, hidden_size, num_classes):\n",
        "    super(NeuralNet, self).__init__()\n",
        "    self.fc1 = nn.Linear(input_size, hidden_size)\n",
        "    self.relu = nn.ReLU()\n",
        "    self.fc2 = nn.Linear(hidden_size, num_classes)\n",
        "  \n",
        "  def forward(self, x):\n",
        "    out = self.fc1(x)\n",
        "    out = self.relu(out)\n",
        "    out = self.fc2(out)\n",
        "\n",
        "    return out"
      ]
    },
    {
      "cell_type": "markdown",
      "metadata": {
        "id": "OHZrQPO_3zG7"
      },
      "source": [
        "# Create model"
      ]
    },
    {
      "cell_type": "code",
      "execution_count": 7,
      "metadata": {
        "id": "e4gUeMhb4Ixg"
      },
      "outputs": [],
      "source": [
        "model = NeuralNet(input_size, hidden_size, num_classes).to(device)"
      ]
    },
    {
      "cell_type": "markdown",
      "metadata": {
        "id": "zVeAVB--4W9g"
      },
      "source": [
        "# Loss and optimizer "
      ]
    },
    {
      "cell_type": "code",
      "execution_count": 8,
      "metadata": {
        "id": "B8kv2Ooq4Ypu"
      },
      "outputs": [],
      "source": [
        "criterion = nn.CrossEntropyLoss()\n",
        "optimizer = torch.optim.SGD(model.parameters(), lr=learning_rate)"
      ]
    },
    {
      "cell_type": "markdown",
      "metadata": {
        "id": "cHIgCUqxAJeu"
      },
      "source": [
        "# Train the model"
      ]
    },
    {
      "cell_type": "code",
      "execution_count": 9,
      "metadata": {
        "colab": {
          "base_uri": "https://localhost:8080/"
        },
        "id": "sipdAmisALa0",
        "outputId": "81d6d6ff-1cb5-4af4-e45a-025133ebe6cf"
      },
      "outputs": [
        {
          "name": "stdout",
          "output_type": "stream",
          "text": [
            "Epoch [1/10], Step [100/600], Loss: 2.3016481399536133\n",
            "Epoch [1/10], Step [200/600], Loss: 2.2456464767456055\n",
            "Epoch [1/10], Step [300/600], Loss: 2.247933864593506\n",
            "Epoch [1/10], Step [400/600], Loss: 2.208862066268921\n",
            "Epoch [1/10], Step [500/600], Loss: 2.199373245239258\n",
            "Epoch [1/10], Step [600/600], Loss: 2.179702043533325\n",
            "Epoch [2/10], Step [100/600], Loss: 2.137134552001953\n",
            "Epoch [2/10], Step [200/600], Loss: 2.1214592456817627\n",
            "Epoch [2/10], Step [300/600], Loss: 2.0847792625427246\n",
            "Epoch [2/10], Step [400/600], Loss: 2.011286735534668\n",
            "Epoch [2/10], Step [500/600], Loss: 2.0570342540740967\n",
            "Epoch [2/10], Step [600/600], Loss: 1.985325813293457\n",
            "Epoch [3/10], Step [100/600], Loss: 1.9769103527069092\n",
            "Epoch [3/10], Step [200/600], Loss: 1.944998025894165\n",
            "Epoch [3/10], Step [300/600], Loss: 1.8902201652526855\n",
            "Epoch [3/10], Step [400/600], Loss: 1.8517342805862427\n",
            "Epoch [3/10], Step [500/600], Loss: 1.8703467845916748\n",
            "Epoch [3/10], Step [600/600], Loss: 1.8412150144577026\n",
            "Epoch [4/10], Step [100/600], Loss: 1.7236084938049316\n",
            "Epoch [4/10], Step [200/600], Loss: 1.7306972742080688\n",
            "Epoch [4/10], Step [300/600], Loss: 1.7315863370895386\n",
            "Epoch [4/10], Step [400/600], Loss: 1.6836737394332886\n",
            "Epoch [4/10], Step [500/600], Loss: 1.5887826681137085\n",
            "Epoch [4/10], Step [600/600], Loss: 1.5797080993652344\n",
            "Epoch [5/10], Step [100/600], Loss: 1.611203908920288\n",
            "Epoch [5/10], Step [200/600], Loss: 1.5149933099746704\n",
            "Epoch [5/10], Step [300/600], Loss: 1.4305990934371948\n",
            "Epoch [5/10], Step [400/600], Loss: 1.4938987493515015\n",
            "Epoch [5/10], Step [500/600], Loss: 1.4276293516159058\n",
            "Epoch [5/10], Step [600/600], Loss: 1.3781110048294067\n",
            "Epoch [6/10], Step [100/600], Loss: 1.3001846075057983\n",
            "Epoch [6/10], Step [200/600], Loss: 1.3975120782852173\n",
            "Epoch [6/10], Step [300/600], Loss: 1.3535252809524536\n",
            "Epoch [6/10], Step [400/600], Loss: 1.2757296562194824\n",
            "Epoch [6/10], Step [500/600], Loss: 1.2007553577423096\n",
            "Epoch [6/10], Step [600/600], Loss: 1.2491830587387085\n",
            "Epoch [7/10], Step [100/600], Loss: 1.068090796470642\n",
            "Epoch [7/10], Step [200/600], Loss: 1.1004964113235474\n",
            "Epoch [7/10], Step [300/600], Loss: 1.1620029211044312\n",
            "Epoch [7/10], Step [400/600], Loss: 1.1904610395431519\n",
            "Epoch [7/10], Step [500/600], Loss: 1.061289668083191\n",
            "Epoch [7/10], Step [600/600], Loss: 1.1770143508911133\n",
            "Epoch [8/10], Step [100/600], Loss: 1.027773380279541\n",
            "Epoch [8/10], Step [200/600], Loss: 0.9367959499359131\n",
            "Epoch [8/10], Step [300/600], Loss: 0.9920153617858887\n",
            "Epoch [8/10], Step [400/600], Loss: 0.975848376750946\n",
            "Epoch [8/10], Step [500/600], Loss: 1.1074907779693604\n",
            "Epoch [8/10], Step [600/600], Loss: 0.9009902477264404\n",
            "Epoch [9/10], Step [100/600], Loss: 0.9328243136405945\n",
            "Epoch [9/10], Step [200/600], Loss: 0.9932053089141846\n",
            "Epoch [9/10], Step [300/600], Loss: 0.9460896253585815\n",
            "Epoch [9/10], Step [400/600], Loss: 0.8834636211395264\n",
            "Epoch [9/10], Step [500/600], Loss: 0.8625316023826599\n",
            "Epoch [9/10], Step [600/600], Loss: 0.865906298160553\n",
            "Epoch [10/10], Step [100/600], Loss: 0.7790459394454956\n",
            "Epoch [10/10], Step [200/600], Loss: 0.7670283317565918\n",
            "Epoch [10/10], Step [300/600], Loss: 0.8598265051841736\n",
            "Epoch [10/10], Step [400/600], Loss: 0.8275205492973328\n",
            "Epoch [10/10], Step [500/600], Loss: 0.794929563999176\n",
            "Epoch [10/10], Step [600/600], Loss: 0.7371727228164673\n"
          ]
        }
      ],
      "source": [
        "total_step = len(train_loader)  \n",
        "for epoch in range(num_epochs):\n",
        "  for i, (images, labels) in enumerate(train_loader):\n",
        "    # Move tensor to the configured device \n",
        "    images = images.reshape(-1, input_size).to(device)\n",
        "    labels = labels.to(device)\n",
        "\n",
        "    # forward pass\n",
        "    outputs = model(images)\n",
        "    loss = criterion(outputs, labels)\n",
        "\n",
        "    # backward and optimizer \n",
        "    optimizer.zero_grad()\n",
        "    loss.backward()\n",
        "    optimizer.step()\n",
        "\n",
        "    if (i+1) % 100 == 0:\n",
        "          print ('Epoch [{}/{}], Step [{}/{}], Loss: {}' \n",
        "                  .format(epoch+1, num_epochs, i+1, total_step, loss.item()))"
      ]
    },
    {
      "cell_type": "markdown",
      "metadata": {
        "id": "gLCQUDWyBb9t"
      },
      "source": [
        "# Test model"
      ]
    },
    {
      "cell_type": "code",
      "execution_count": 10,
      "metadata": {
        "colab": {
          "base_uri": "https://localhost:8080/"
        },
        "id": "WglUc25OBbC6",
        "outputId": "86ce5457-9ed4-439e-85dd-c40f45eb4a72"
      },
      "outputs": [
        {
          "name": "stdout",
          "output_type": "stream",
          "text": [
            "Accuracy: 84.11\n"
          ]
        }
      ],
      "source": [
        "with torch.no_grad():\n",
        "  correct = 0\n",
        "  total = 0\n",
        "  for images, labels in test_loader:\n",
        "    images = images.reshape(-1, input_size).to(device)\n",
        "    labels = labels.to(device)\n",
        "    outputs = model(images)\n",
        "\n",
        "    _, predicted = torch.max(outputs.data, 1)\n",
        "    total += labels.size(0)\n",
        "    correct += (predicted == labels).sum().item()\n",
        "  \n",
        "  print('Accuracy: {}'.format(100 * correct / total))"
      ]
    },
    {
      "cell_type": "markdown",
      "metadata": {
        "id": "DETx5Y9aCWb5"
      },
      "source": [
        "# Save model"
      ]
    },
    {
      "cell_type": "code",
      "execution_count": 11,
      "metadata": {
        "id": "F-kgIthZCXP_"
      },
      "outputs": [],
      "source": [
        "torch.save(model.state_dict(), 'NN_model.ckpt')"
      ]
    }
  ],
  "metadata": {
    "accelerator": "GPU",
    "colab": {
      "name": "feedforward_neural_network.ipynb",
      "provenance": [],
      "toc_visible": true
    },
    "kernelspec": {
      "display_name": ".venv",
      "language": "python",
      "name": "python3"
    },
    "language_info": {
      "codemirror_mode": {
        "name": "ipython",
        "version": 3
      },
      "file_extension": ".py",
      "mimetype": "text/x-python",
      "name": "python",
      "nbconvert_exporter": "python",
      "pygments_lexer": "ipython3",
      "version": "3.12.9"
    }
  },
  "nbformat": 4,
  "nbformat_minor": 0
}
