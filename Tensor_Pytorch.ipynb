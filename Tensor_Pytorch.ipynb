{
 "cells": [
  {
   "cell_type": "markdown",
   "metadata": {
    "id": "FWm1uwpYabeS"
   },
   "source": [
    "# 1. Giới thiệu pytorch"
   ]
  },
  {
   "cell_type": "markdown",
   "metadata": {
    "id": "7-w3bNZXHdqs"
   },
   "source": [
    "Pytorch là một thư viện của Python được dùng để xây dựng mô hình AI. Với sự linh hoạt và cho phép các mô hình học sâu được dễ dàng xây dựng từ python - Pytorch được phát triển bởi nhóm nghiên cứu hàng đầu của facebook đang ngày càng được sử dụng nhiều trong giới nghiên cứu và phát triển các sản phẩm AI. Pytorch cho phép khả năng tăng tốc phần cứng dựa trên GPU qua đó hỗ trợ rất nhiều trong việc huấn luyện mô hình.\n",
    "\n",
    "## a. Một số đặc trưng của Pytorch\n",
    "Dưới đây là một vài những thuộc tính quan trọng giúp cho pytorch ngày càng được thịnh hành hơn.\n",
    "- **Easy Interface**: Pytorch cung cấp API để sử dụng - vì vậy việc triển khải và thực thi code với framework trở nên dễ dàng hơn.\n",
    "- **Python Usage**: Bên cạnh việc hỗ trợ mạnh mẽ cho AI, DS thì pytorch có thể tận dụng tất cả các dịch vụ, chức năng và môi trường được cung cấp bởi Python.\n",
    "- **Computational Graph**: Pytorch cung cấp các đồ thị tính toán động (dynamic computational graphs) - do đó người dùng có thể thay đổi chúng trong thời gian thực thi.\n",
    "\n",
    "## b. Một số tiện ích của Pytorch \n",
    "Một số tiện ích khi làm việc với Pytorch:\n",
    "- Dễ dàng hiểu và debug code.\n",
    "- Pytorch như một phần mở rộng của Numpy khi hỗ trợ việc tính toán trên GPU.\n",
    "- Dễ dàng xây dựng triển khai kiến trúc mạng."
   ]
  },
  {
   "cell_type": "markdown",
   "metadata": {
    "id": "GtbB2GH5e8S7"
   },
   "source": [
    "# 2. Tensor\n"
   ]
  },
  {
   "cell_type": "markdown",
   "metadata": {
    "id": "BKidIUrwfqgb"
   },
   "source": [
    "## I - Giới thiệu tensor\n",
    "Tensor là một kiểu dữ liệu cho phép lưu trữ dữ liệu với số chiều tùy ý, dữ liệu lưu trữ này có thể là một giá trí vô hướng, vector, mảng 1 chiều, mảng 2 chiều hay mảng n chiều.\n",
    "VD: \n",
    "- Giá trí vô hướng: 100\n",
    "- Vector: [1, 2, 3]\n",
    "- Mảng 2 chiều: [[1, 2, 3], [2, 3, 4]]\n",
    "- Mảng n chiều (n=3): [[[1, 2], [2, 3]]]"
   ]
  },
  {
   "cell_type": "code",
   "execution_count": 1,
   "metadata": {
    "colab": {
     "base_uri": "https://localhost:8080/"
    },
    "executionInfo": {
     "elapsed": 533,
     "status": "ok",
     "timestamp": 1626352878711,
     "user": {
      "displayName": "Hung An Minh",
      "photoUrl": "",
      "userId": "05267040817390776748"
     },
     "user_tz": -420
    },
    "id": "FacGpzvbLA9Z",
    "outputId": "57e663d1-e218-4504-fd5c-82bf7eac0ce4"
   },
   "outputs": [
    {
     "name": "stdout",
     "output_type": "stream",
     "text": [
      "scalar:  tensor([0.])\n",
      "vector:  tensor([0., 0., 0.])\n",
      "matrix2D:  tensor([[1., 1., 1.],\n",
      "        [1., 1., 1.]])\n",
      "matrix3D:  tensor([[[0.8966, 0.5930, 0.5937],\n",
      "         [0.3240, 0.7710, 0.8831]],\n",
      "\n",
      "        [[0.2073, 0.2899, 0.4875],\n",
      "         [0.0940, 0.5193, 0.6971]]])\n"
     ]
    }
   ],
   "source": [
    "import torch\n",
    "\n",
    "scalar = torch.empty(1)\n",
    "print(\"scalar: \", scalar)\n",
    "vector = torch.zeros(3)\n",
    "print(\"vector: \", vector)\n",
    "matrix2D = torch.ones(2, 3)\n",
    "print(\"matrix2D: \", matrix2D)\n",
    "matrix3D = torch.rand(2, 2, 3)\n",
    "print(\"matrix3D: \", matrix3D)"
   ]
  },
  {
   "cell_type": "code",
   "execution_count": 2,
   "metadata": {
    "colab": {
     "base_uri": "https://localhost:8080/"
    },
    "executionInfo": {
     "elapsed": 412,
     "status": "ok",
     "timestamp": 1626352961891,
     "user": {
      "displayName": "Hung An Minh",
      "photoUrl": "",
      "userId": "05267040817390776748"
     },
     "user_tz": -420
    },
    "id": "GB2mwUAeLYbz",
    "outputId": "950c3fb7-3cfa-4a33-ecf2-da411177d2ab"
   },
   "outputs": [
    {
     "data": {
      "text/plain": [
       "torch.Size([2, 3])"
      ]
     },
     "execution_count": 2,
     "metadata": {},
     "output_type": "execute_result"
    }
   ],
   "source": [
    "# check size\n",
    "matrix2D.size()"
   ]
  },
  {
   "cell_type": "code",
   "execution_count": 3,
   "metadata": {
    "colab": {
     "base_uri": "https://localhost:8080/"
    },
    "executionInfo": {
     "elapsed": 408,
     "status": "ok",
     "timestamp": 1626352980738,
     "user": {
      "displayName": "Hung An Minh",
      "photoUrl": "",
      "userId": "05267040817390776748"
     },
     "user_tz": -420
    },
    "id": "2-odwcVjMMyD",
    "outputId": "b1a93424-0f8c-4f37-d335-d0a39caae390"
   },
   "outputs": [
    {
     "data": {
      "text/plain": [
       "torch.float32"
      ]
     },
     "execution_count": 3,
     "metadata": {},
     "output_type": "execute_result"
    }
   ],
   "source": [
    "# check data type\n",
    "matrix3D.dtype"
   ]
  },
  {
   "cell_type": "code",
   "execution_count": 4,
   "metadata": {
    "colab": {
     "base_uri": "https://localhost:8080/"
    },
    "executionInfo": {
     "elapsed": 407,
     "status": "ok",
     "timestamp": 1626353011771,
     "user": {
      "displayName": "Hung An Minh",
      "photoUrl": "",
      "userId": "05267040817390776748"
     },
     "user_tz": -420
    },
    "id": "n08e1IOCMUGx",
    "outputId": "8ee420ce-11cd-4792-a22b-e75828ae2c65"
   },
   "outputs": [
    {
     "name": "stdout",
     "output_type": "stream",
     "text": [
      "tensor([[0., 0.],\n",
      "        [0., 0.]], dtype=torch.float16)\n"
     ]
    }
   ],
   "source": [
    "# specify types, float32 default\n",
    "x = torch.zeros(2, 2, dtype=torch.float16)\n",
    "print(x)"
   ]
  },
  {
   "cell_type": "code",
   "execution_count": 5,
   "metadata": {
    "colab": {
     "base_uri": "https://localhost:8080/"
    },
    "executionInfo": {
     "elapsed": 406,
     "status": "ok",
     "timestamp": 1626353099590,
     "user": {
      "displayName": "Hung An Minh",
      "photoUrl": "",
      "userId": "05267040817390776748"
     },
     "user_tz": -420
    },
    "id": "Z5ACnl0sMpty",
    "outputId": "aa41a6f2-5520-4a8b-f001-7b21ac88e7d3"
   },
   "outputs": [
    {
     "name": "stdout",
     "output_type": "stream",
     "text": [
      "torch.Size([2])\n",
      "tensor([5.5000, 3.0000])\n"
     ]
    }
   ],
   "source": [
    "# construct from data\n",
    "x = torch.tensor([5.5, 3])\n",
    "print(x.size())\n",
    "print(x)"
   ]
  },
  {
   "cell_type": "markdown",
   "metadata": {
    "id": "kMOc6c7MM4AK"
   },
   "source": [
    "## II - requires_grad argument\n",
    "Tham số này cho biết tensor cần được tính đạo hàm - đây là một bước quan trọng trong quá trình training model"
   ]
  },
  {
   "cell_type": "code",
   "execution_count": 6,
   "metadata": {
    "colab": {
     "base_uri": "https://localhost:8080/"
    },
    "executionInfo": {
     "elapsed": 403,
     "status": "ok",
     "timestamp": 1626353410254,
     "user": {
      "displayName": "Hung An Minh",
      "photoUrl": "",
      "userId": "05267040817390776748"
     },
     "user_tz": -420
    },
    "id": "i0QoPNeJNzLs",
    "outputId": "1ba34902-e30f-462d-e2ae-4ac592063d62"
   },
   "outputs": [
    {
     "name": "stdout",
     "output_type": "stream",
     "text": [
      "tensor([6., 9.], requires_grad=True)\n"
     ]
    }
   ],
   "source": [
    "x = torch.tensor([6., 9.], requires_grad=True)\n",
    "print(x)"
   ]
  },
  {
   "cell_type": "markdown",
   "metadata": {
    "id": "9e1YHs0dONNK"
   },
   "source": [
    "## III - Một số phép toán trong tensor"
   ]
  },
  {
   "cell_type": "code",
   "execution_count": 9,
   "metadata": {
    "id": "ltbT1zV4ORFq"
   },
   "outputs": [],
   "source": [
    "x = torch.rand(3, 3)\n",
    "y = torch.rand(3, 3)"
   ]
  },
  {
   "cell_type": "code",
   "execution_count": 10,
   "metadata": {
    "colab": {
     "base_uri": "https://localhost:8080/"
    },
    "executionInfo": {
     "elapsed": 414,
     "status": "ok",
     "timestamp": 1626353623319,
     "user": {
      "displayName": "Hung An Minh",
      "photoUrl": "",
      "userId": "05267040817390776748"
     },
     "user_tz": -420
    },
    "id": "m7gOGsEXObky",
    "outputId": "1f5f6a3a-1cd6-4465-fd3c-2bd1ffc9e872"
   },
   "outputs": [
    {
     "name": "stdout",
     "output_type": "stream",
     "text": [
      "tensor([[0.5673, 1.0904, 1.1116],\n",
      "        [1.0948, 0.4077, 0.0390],\n",
      "        [1.3543, 1.3348, 1.1357]])\n",
      "tensor([[0.5673, 1.0904, 1.1116],\n",
      "        [1.0948, 0.4077, 0.0390],\n",
      "        [1.3543, 1.3348, 1.1357]])\n"
     ]
    }
   ],
   "source": [
    "# elementwise addition\n",
    "z = x + y\n",
    "_z = torch.add(x,y)\n",
    "print(z)\n",
    "print(_z)"
   ]
  },
  {
   "cell_type": "code",
   "execution_count": 11,
   "metadata": {
    "colab": {
     "base_uri": "https://localhost:8080/"
    },
    "executionInfo": {
     "elapsed": 417,
     "status": "ok",
     "timestamp": 1626353647057,
     "user": {
      "displayName": "Hung An Minh",
      "photoUrl": "",
      "userId": "05267040817390776748"
     },
     "user_tz": -420
    },
    "id": "kDZFhBoSOjFS",
    "outputId": "31a76783-217a-4507-b928-8e6357765549"
   },
   "outputs": [
    {
     "name": "stdout",
     "output_type": "stream",
     "text": [
      "tensor([[-0.2615, -0.0569, -0.4652],\n",
      "        [ 0.7924,  0.0127, -0.0367],\n",
      "        [-0.0913,  0.1040,  0.3484]])\n",
      "tensor([[-0.2615, -0.0569, -0.4652],\n",
      "        [ 0.7924,  0.0127, -0.0367],\n",
      "        [-0.0913,  0.1040,  0.3484]])\n"
     ]
    }
   ],
   "source": [
    "# subtraction\n",
    "z = x - y \n",
    "_z = torch.sub(x, y)\n",
    "print(z)\n",
    "print(_z)"
   ]
  },
  {
   "cell_type": "code",
   "execution_count": 12,
   "metadata": {
    "colab": {
     "base_uri": "https://localhost:8080/"
    },
    "executionInfo": {
     "elapsed": 401,
     "status": "ok",
     "timestamp": 1626353729400,
     "user": {
      "displayName": "Hung An Minh",
      "photoUrl": "",
      "userId": "05267040817390776748"
     },
     "user_tz": -420
    },
    "id": "Kl8cBP7QPA1D",
    "outputId": "9ea5ed9e-1c21-495c-9e90-be2cea271a2d"
   },
   "outputs": [
    {
     "name": "stdout",
     "output_type": "stream",
     "text": [
      "tensor([[6.3356e-02, 2.9645e-01, 2.5481e-01],\n",
      "        [1.4270e-01, 4.1523e-02, 4.4061e-05],\n",
      "        [4.5647e-01, 4.4273e-01, 2.9211e-01]])\n",
      "tensor([[6.3356e-02, 2.9645e-01, 2.5481e-01],\n",
      "        [1.4270e-01, 4.1523e-02, 4.4061e-05],\n",
      "        [4.5647e-01, 4.4273e-01, 2.9211e-01]])\n"
     ]
    }
   ],
   "source": [
    "# mutiplication\n",
    "z = x * y\n",
    "_z = torch.mul(x, y)\n",
    "print(z)\n",
    "print(_z)"
   ]
  },
  {
   "cell_type": "code",
   "execution_count": 13,
   "metadata": {
    "colab": {
     "base_uri": "https://localhost:8080/"
    },
    "executionInfo": {
     "elapsed": 412,
     "status": "ok",
     "timestamp": 1626353750813,
     "user": {
      "displayName": "Hung An Minh",
      "photoUrl": "",
      "userId": "05267040817390776748"
     },
     "user_tz": -420
    },
    "id": "aa5LIN1RPIxb",
    "outputId": "32c8af54-867a-4a1b-b3ae-204743deeab6"
   },
   "outputs": [
    {
     "name": "stdout",
     "output_type": "stream",
     "text": [
      "tensor([[0.3690, 0.9009, 0.4100],\n",
      "        [6.2394, 1.0642, 0.0308],\n",
      "        [0.8737, 1.1690, 1.8850]])\n",
      "tensor([[0.3690, 0.9009, 0.4100],\n",
      "        [6.2394, 1.0642, 0.0308],\n",
      "        [0.8737, 1.1690, 1.8850]])\n"
     ]
    }
   ],
   "source": [
    "# division\n",
    "z = x / y\n",
    "_z = torch.div(x, y)\n",
    "print(z)\n",
    "print(_z)"
   ]
  },
  {
   "cell_type": "markdown",
   "metadata": {
    "id": "y0VziL__PO4i"
   },
   "source": [
    "## IV - Slicing"
   ]
  },
  {
   "cell_type": "code",
   "execution_count": 14,
   "metadata": {
    "colab": {
     "base_uri": "https://localhost:8080/"
    },
    "executionInfo": {
     "elapsed": 403,
     "status": "ok",
     "timestamp": 1626353820238,
     "user": {
      "displayName": "Hung An Minh",
      "photoUrl": "",
      "userId": "05267040817390776748"
     },
     "user_tz": -420
    },
    "id": "6Vf3oXLIPS9j",
    "outputId": "25288af6-fffa-4820-f894-1ce0f5063fcb"
   },
   "outputs": [
    {
     "name": "stdout",
     "output_type": "stream",
     "text": [
      "tensor([[0.5363, 0.8369, 0.5921, 0.5008, 0.4603],\n",
      "        [0.4949, 0.6836, 0.9337, 0.5086, 0.2217],\n",
      "        [0.8860, 0.8290, 0.2519, 0.3935, 0.3623]])\n"
     ]
    }
   ],
   "source": [
    "x = torch.rand(3, 5)\n",
    "print(x)"
   ]
  },
  {
   "cell_type": "code",
   "execution_count": 15,
   "metadata": {
    "colab": {
     "base_uri": "https://localhost:8080/"
    },
    "executionInfo": {
     "elapsed": 392,
     "status": "ok",
     "timestamp": 1626353840476,
     "user": {
      "displayName": "Hung An Minh",
      "photoUrl": "",
      "userId": "05267040817390776748"
     },
     "user_tz": -420
    },
    "id": "A-7oUQjnPeOS",
    "outputId": "7c5f214b-d85f-4ada-c23a-6966a1c80c2a"
   },
   "outputs": [
    {
     "name": "stdout",
     "output_type": "stream",
     "text": [
      "tensor([0.5363, 0.4949, 0.8860])\n"
     ]
    }
   ],
   "source": [
    "# all rows, column 0\n",
    "print(x[:, 0])"
   ]
  },
  {
   "cell_type": "code",
   "execution_count": null,
   "metadata": {
    "colab": {
     "base_uri": "https://localhost:8080/"
    },
    "executionInfo": {
     "elapsed": 396,
     "status": "ok",
     "timestamp": 1626353860575,
     "user": {
      "displayName": "Hung An Minh",
      "photoUrl": "",
      "userId": "05267040817390776748"
     },
     "user_tz": -420
    },
    "id": "0vwooMM_PkD6",
    "outputId": "6b6a9f55-09c5-4f37-be2b-68fb00cb1022"
   },
   "outputs": [
    {
     "name": "stdout",
     "output_type": "stream",
     "text": [
      "tensor([0.1595, 0.9509, 0.3414, 0.7213, 0.2124])\n"
     ]
    }
   ],
   "source": [
    "# row 1, all columns\n",
    "print(x[1, :])"
   ]
  },
  {
   "cell_type": "code",
   "execution_count": null,
   "metadata": {
    "colab": {
     "base_uri": "https://localhost:8080/"
    },
    "executionInfo": {
     "elapsed": 410,
     "status": "ok",
     "timestamp": 1626353887448,
     "user": {
      "displayName": "Hung An Minh",
      "photoUrl": "",
      "userId": "05267040817390776748"
     },
     "user_tz": -420
    },
    "id": "BD18LwgdPoX7",
    "outputId": "47ff6d53-e8c3-4ddb-b18b-e1850eb429e7"
   },
   "outputs": [
    {
     "name": "stdout",
     "output_type": "stream",
     "text": [
      "tensor(0.9509)\n"
     ]
    }
   ],
   "source": [
    "# get element at 1, 1\n",
    "print(x[1, 1])"
   ]
  },
  {
   "cell_type": "markdown",
   "metadata": {
    "id": "VyZUpkpLP2jq"
   },
   "source": [
    "Lấy giá trị thực của (sử dụng khi chỉ có 1 phần tử trong tensor)"
   ]
  },
  {
   "cell_type": "code",
   "execution_count": null,
   "metadata": {
    "colab": {
     "base_uri": "https://localhost:8080/"
    },
    "executionInfo": {
     "elapsed": 395,
     "status": "ok",
     "timestamp": 1626353903730,
     "user": {
      "displayName": "Hung An Minh",
      "photoUrl": "",
      "userId": "05267040817390776748"
     },
     "user_tz": -420
    },
    "id": "LKCkg-1KPx9z",
    "outputId": "12c567d3-47ba-4b95-ef4f-9909de4d5ee3"
   },
   "outputs": [
    {
     "name": "stdout",
     "output_type": "stream",
     "text": [
      "0.9509010910987854\n"
     ]
    }
   ],
   "source": [
    "print(x[1,1].item())"
   ]
  },
  {
   "cell_type": "markdown",
   "metadata": {
    "id": "bQmkc8TJQcsT"
   },
   "source": [
    "## V - Reshape"
   ]
  },
  {
   "cell_type": "code",
   "execution_count": null,
   "metadata": {
    "id": "F-RFe6rbQeX0"
   },
   "outputs": [],
   "source": [
    "x = torch.rand(4, 4)"
   ]
  },
  {
   "cell_type": "code",
   "execution_count": null,
   "metadata": {
    "colab": {
     "base_uri": "https://localhost:8080/"
    },
    "executionInfo": {
     "elapsed": 409,
     "status": "ok",
     "timestamp": 1626354182039,
     "user": {
      "displayName": "Hung An Minh",
      "photoUrl": "",
      "userId": "05267040817390776748"
     },
     "user_tz": -420
    },
    "id": "BRcK7NkHQixD",
    "outputId": "a9df51f7-81e4-4614-8482-10137de6678f"
   },
   "outputs": [
    {
     "name": "stdout",
     "output_type": "stream",
     "text": [
      "tensor([0.6913, 0.4079, 0.8190, 0.9249, 0.1724, 0.6053, 0.2285, 0.8250, 0.6965,\n",
      "        0.8264, 0.9848, 0.0662, 0.6427, 0.4268, 0.2386, 0.5546])\n",
      "torch.Size([16])\n"
     ]
    }
   ],
   "source": [
    "y = x.view(16)\n",
    "print(y)\n",
    "print(y.size())"
   ]
  },
  {
   "cell_type": "markdown",
   "metadata": {
    "id": "MVRFlucKRHw8"
   },
   "source": [
    "Sử dụng -1 để suy ra chiều mới từ số chiều hiện tại với -1 thì pytorch sẽ tự động quyết định size cần thiết"
   ]
  },
  {
   "cell_type": "code",
   "execution_count": null,
   "metadata": {
    "colab": {
     "base_uri": "https://localhost:8080/"
    },
    "executionInfo": {
     "elapsed": 422,
     "status": "ok",
     "timestamp": 1626354169565,
     "user": {
      "displayName": "Hung An Minh",
      "photoUrl": "",
      "userId": "05267040817390776748"
     },
     "user_tz": -420
    },
    "id": "5p2HHQWtQo-8",
    "outputId": "cdfb724f-a441-4773-806e-1075ddd88f6c"
   },
   "outputs": [
    {
     "name": "stdout",
     "output_type": "stream",
     "text": [
      "tensor([[0.6913, 0.4079, 0.8190, 0.9249, 0.1724, 0.6053, 0.2285, 0.8250],\n",
      "        [0.6965, 0.8264, 0.9848, 0.0662, 0.6427, 0.4268, 0.2386, 0.5546]])\n",
      "torch.Size([2, 8])\n"
     ]
    }
   ],
   "source": [
    "y = x.view(-1, 8)\n",
    "print(y)\n",
    "print(y.size())"
   ]
  },
  {
   "cell_type": "markdown",
   "metadata": {
    "id": "AJSbHGoFRncE"
   },
   "source": [
    "## VI - Pytorch và Numpy"
   ]
  },
  {
   "cell_type": "code",
   "execution_count": null,
   "metadata": {
    "colab": {
     "base_uri": "https://localhost:8080/"
    },
    "executionInfo": {
     "elapsed": 466,
     "status": "ok",
     "timestamp": 1626354577198,
     "user": {
      "displayName": "Hung An Minh",
      "photoUrl": "",
      "userId": "05267040817390776748"
     },
     "user_tz": -420
    },
    "id": "UeZ0XPrWRqKN",
    "outputId": "09fe918a-43bf-4d1a-a806-d7b9f497863f"
   },
   "outputs": [
    {
     "name": "stdout",
     "output_type": "stream",
     "text": [
      "tensor([1., 1., 1.])\n",
      "<class 'torch.Tensor'>\n",
      "[1. 1. 1.]\n",
      "<class 'numpy.ndarray'>\n"
     ]
    }
   ],
   "source": [
    "# torch to numpy\n",
    "a = torch.ones(3)\n",
    "print(a)\n",
    "print(type(a))\n",
    "b = a.numpy()\n",
    "print(b)\n",
    "print(type(b))"
   ]
  },
  {
   "cell_type": "markdown",
   "metadata": {
    "id": "JGK8iDk4R2Ec"
   },
   "source": [
    "Lưu ý: Nếu tensor đang được chạy trên CPU, cả 2 object đều chia sẻ cùng một memory location, vì vậy khi thay đổi một object thì object còn lại cũng sẽ được thay đổi bằng cú pháp sau"
   ]
  },
  {
   "cell_type": "code",
   "execution_count": null,
   "metadata": {
    "colab": {
     "base_uri": "https://localhost:8080/"
    },
    "executionInfo": {
     "elapsed": 2,
     "status": "ok",
     "timestamp": 1626354578808,
     "user": {
      "displayName": "Hung An Minh",
      "photoUrl": "",
      "userId": "05267040817390776748"
     },
     "user_tz": -420
    },
    "id": "laJhGffZSVvM",
    "outputId": "edc83a3f-0f9b-4e60-afae-13fd17ba589f"
   },
   "outputs": [
    {
     "name": "stdout",
     "output_type": "stream",
     "text": [
      "tensor([1., 1., 1.])\n",
      "[1. 1. 1.]\n"
     ]
    }
   ],
   "source": [
    "a.add(1)\n",
    "print(a)\n",
    "print(b)"
   ]
  },
  {
   "cell_type": "code",
   "execution_count": null,
   "metadata": {
    "colab": {
     "base_uri": "https://localhost:8080/"
    },
    "executionInfo": {
     "elapsed": 423,
     "status": "ok",
     "timestamp": 1626354622222,
     "user": {
      "displayName": "Hung An Minh",
      "photoUrl": "",
      "userId": "05267040817390776748"
     },
     "user_tz": -420
    },
    "id": "o2CCtdwXR1QU",
    "outputId": "a295ae5e-cc9c-4546-c183-b8ea47e37e37"
   },
   "outputs": [
    {
     "name": "stdout",
     "output_type": "stream",
     "text": [
      "tensor([2., 2., 2.])\n",
      "[2. 2. 2.]\n"
     ]
    }
   ],
   "source": [
    "a.add_(1)\n",
    "print(a)\n",
    "print(b)"
   ]
  },
  {
   "cell_type": "code",
   "execution_count": null,
   "metadata": {
    "colab": {
     "base_uri": "https://localhost:8080/"
    },
    "executionInfo": {
     "elapsed": 547,
     "status": "ok",
     "timestamp": 1626354714236,
     "user": {
      "displayName": "Hung An Minh",
      "photoUrl": "",
      "userId": "05267040817390776748"
     },
     "user_tz": -420
    },
    "id": "pDLH-qWKSuZN",
    "outputId": "013eeba5-43fe-4b00-d289-21e7eea5e45a"
   },
   "outputs": [
    {
     "name": "stdout",
     "output_type": "stream",
     "text": [
      "[1. 1. 1. 1. 1. 1.]\n",
      "<class 'numpy.ndarray'>\n",
      "tensor([1., 1., 1., 1., 1., 1.], dtype=torch.float64)\n",
      "<class 'torch.Tensor'>\n"
     ]
    }
   ],
   "source": [
    "# numpy to torch\n",
    "import numpy as np \n",
    "a = np.ones(6)\n",
    "b = torch.from_numpy(a)\n",
    "print(a)\n",
    "print(type(a))\n",
    "print(b)\n",
    "print(type(b))"
   ]
  },
  {
   "cell_type": "markdown",
   "metadata": {
    "id": "-krQ1ehtS-zk"
   },
   "source": [
    "Tương tự như cách torch chuyển sang numpy. Thì numpy chuyển sang torch cũng vậy. "
   ]
  },
  {
   "cell_type": "code",
   "execution_count": null,
   "metadata": {
    "colab": {
     "base_uri": "https://localhost:8080/"
    },
    "executionInfo": {
     "elapsed": 411,
     "status": "ok",
     "timestamp": 1626354728335,
     "user": {
      "displayName": "Hung An Minh",
      "photoUrl": "",
      "userId": "05267040817390776748"
     },
     "user_tz": -420
    },
    "id": "1YQG82EvS7aM",
    "outputId": "5447af36-b157-4f8b-c84f-656f99bf53f1"
   },
   "outputs": [
    {
     "name": "stdout",
     "output_type": "stream",
     "text": [
      "[2. 2. 2. 2. 2. 2.]\n",
      "tensor([2., 2., 2., 2., 2., 2.], dtype=torch.float64)\n"
     ]
    }
   ],
   "source": [
    "a += 1\n",
    "print(a)\n",
    "print(b)"
   ]
  },
  {
   "cell_type": "markdown",
   "metadata": {
    "id": "DMT8w-Q_TXJ9"
   },
   "source": [
    "## VII - Check and config device"
   ]
  },
  {
   "cell_type": "code",
   "execution_count": 16,
   "metadata": {
    "colab": {
     "base_uri": "https://localhost:8080/"
    },
    "executionInfo": {
     "elapsed": 516,
     "status": "ok",
     "timestamp": 1626354918456,
     "user": {
      "displayName": "Hung An Minh",
      "photoUrl": "",
      "userId": "05267040817390776748"
     },
     "user_tz": -420
    },
    "id": "AH96aMBoTZVc",
    "outputId": "39dceb53-01ad-4aa8-ec1e-10e3261b3472"
   },
   "outputs": [
    {
     "name": "stdout",
     "output_type": "stream",
     "text": [
      "cpu\n"
     ]
    }
   ],
   "source": [
    "device = torch.device('cuda' if torch.cuda.is_available() else 'cpu')\n",
    "print(device)"
   ]
  },
  {
   "cell_type": "markdown",
   "metadata": {
    "id": "ilFaTRRZTrtt"
   },
   "source": [
    "## VIII - Move Tensors to GPU\n",
    "Để sử dụng GPU tính toán các giá trị tensor ta sử dụng cách sau"
   ]
  },
  {
   "cell_type": "code",
   "execution_count": 17,
   "metadata": {
    "id": "QU_Q5ahCT3tl"
   },
   "outputs": [],
   "source": [
    "x = torch.ones(5)\n",
    "if torch.cuda.is_available():\n",
    "  device = torch.device(\"cuda\") # \"cpu\"\n",
    "  y = torch.ones(5, device=device)\n",
    "  z = x.to(device)\n",
    "  z = x + y \n",
    "  print(z)"
   ]
  },
  {
   "cell_type": "markdown",
   "metadata": {
    "id": "VV4-M3g5Udle"
   },
   "source": [
    "Lưu ý rằng numpy không chạy được trên GPU vì vậy muốn chuyển torch sang numpy thì phải set device lại thành cpu rồi mới thực hiện bước chuyển."
   ]
  }
 ],
 "metadata": {
  "colab": {
   "provenance": []
  },
  "kernelspec": {
   "display_name": ".venv",
   "language": "python",
   "name": "python3"
  },
  "language_info": {
   "codemirror_mode": {
    "name": "ipython",
    "version": 3
   },
   "file_extension": ".py",
   "mimetype": "text/x-python",
   "name": "python",
   "nbconvert_exporter": "python",
   "pygments_lexer": "ipython3",
   "version": "3.12.9"
  }
 },
 "nbformat": 4,
 "nbformat_minor": 0
}
