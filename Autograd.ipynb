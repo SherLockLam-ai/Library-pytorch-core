{
 "cells": [
  {
   "cell_type": "markdown",
   "metadata": {
    "id": "JXq_kYaEWjgl"
   },
   "source": [
    "Trong phần này sẽ tìm hiểu về cách tính đạo hàm bằng cách sử dụng autograd package trong Pytorch. "
   ]
  },
  {
   "cell_type": "markdown",
   "metadata": {
    "id": "Qaa1mZH8W9KV"
   },
   "source": [
    "# 1- The Autograd package\n",
    "Autograd package cung cấp một sự khác biệt tự động cho tất cả các hoạt động của tensor. Rất dễ dàng để sử dụng đạo hàm trong pytorch bằng cách chỉ cho nó biết rằng tensor cần được đạo hàm bằng *requires_grad*. Với việc thiết lập thuộc tính này, các phép toán trên tensor đều được theo dõi trên một đồ thị tính toán."
   ]
  },
  {
   "cell_type": "code",
   "execution_count": 1,
   "metadata": {
    "executionInfo": {
     "elapsed": 280,
     "status": "ok",
     "timestamp": 1626356249964,
     "user": {
      "displayName": "Hung An Minh",
      "photoUrl": "",
      "userId": "05267040817390776748"
     },
     "user_tz": -420
    },
    "id": "aBowUSb9VzLT"
   },
   "outputs": [],
   "source": [
    "import torch\n",
    "\n",
    "x = torch.randn(3, requires_grad=True)\n",
    "y = x + 2"
   ]
  },
  {
   "cell_type": "code",
   "execution_count": 2,
   "metadata": {
    "colab": {
     "base_uri": "https://localhost:8080/"
    },
    "executionInfo": {
     "elapsed": 2,
     "status": "ok",
     "timestamp": 1626356285346,
     "user": {
      "displayName": "Hung An Minh",
      "photoUrl": "",
      "userId": "05267040817390776748"
     },
     "user_tz": -420
    },
    "id": "5i9QMvyuYLQ-",
    "outputId": "fb0ce8b8-8f56-4839-bdd9-230fe58c4845"
   },
   "outputs": [
    {
     "name": "stdout",
     "output_type": "stream",
     "text": [
      "tensor([ 0.0990, -0.6665, -0.1077], requires_grad=True)\n",
      "tensor([2.0990, 1.3335, 1.8923], grad_fn=<AddBackward0>)\n",
      "<AddBackward0 object at 0x000001853B079210>\n"
     ]
    }
   ],
   "source": [
    "\"\"\"\n",
    "  - ở cell trên y đã được tạo ra bởi kết quả của phép tính x + 2, vì vậy nó sẽ tạo một thuộc tính grad_fn.\n",
    "  - grad_fn: tham chiếu đến một hàm đã tạo tensor\n",
    "\"\"\"\n",
    "print(x) # Đã được tạo ở cell tren -> grad_fn lúc này là None\n",
    "print(y)\n",
    "print(y.grad_fn)"
   ]
  },
  {
   "cell_type": "code",
   "execution_count": 3,
   "metadata": {
    "colab": {
     "base_uri": "https://localhost:8080/"
    },
    "executionInfo": {
     "elapsed": 385,
     "status": "ok",
     "timestamp": 1626356410628,
     "user": {
      "displayName": "Hung An Minh",
      "photoUrl": "",
      "userId": "05267040817390776748"
     },
     "user_tz": -420
    },
    "id": "V4tX0nNWZElG",
    "outputId": "ebd10f9f-67f1-4ce4-b38f-2a6eb4504442"
   },
   "outputs": [
    {
     "name": "stdout",
     "output_type": "stream",
     "text": [
      "tensor([6.2969, 4.0006, 5.6768], grad_fn=<MulBackward0>)\n",
      "tensor([9.2969, 7.0006, 8.6768], grad_fn=<AddBackward0>)\n"
     ]
    }
   ],
   "source": [
    "# Thực hiện các phép tính khác trên y\n",
    "z = y * 3\n",
    "print(z)\n",
    "z =  z + 3\n",
    "print(z)"
   ]
  },
  {
   "cell_type": "markdown",
   "metadata": {
    "id": "lgVTTZIhZyGu"
   },
   "source": [
    "# 2 - Tính đạo hàm với lan truyền ngược"
   ]
  },
  {
   "cell_type": "markdown",
   "metadata": {
    "id": "9zCN5ugaaL_G"
   },
   "source": [
    "Khi hoàn tất quá trình tính toán, ta có thể gọi *.backward()* và tất cả giá trị đạo hàm sẽ được tính toán một cách tự động. Giá trị đạo hàm của những tensor này sẽ được tích lũy vào trong thuộc tính *.grad*. Nó chính là đạo hàm riêng của tensor."
   ]
  },
  {
   "cell_type": "code",
   "execution_count": 4,
   "metadata": {
    "colab": {
     "base_uri": "https://localhost:8080/"
    },
    "executionInfo": {
     "elapsed": 3,
     "status": "ok",
     "timestamp": 1626356905755,
     "user": {
      "displayName": "Hung An Minh",
      "photoUrl": "",
      "userId": "05267040817390776748"
     },
     "user_tz": -420
    },
    "id": "JDIbCDjUZ1Km",
    "outputId": "5a1cc6d6-7449-4053-d078-6516aa147e98"
   },
   "outputs": [
    {
     "name": "stdout",
     "output_type": "stream",
     "text": [
      "tensor([1., 1., 1.])\n"
     ]
    }
   ],
   "source": [
    "z = z.mean()\n",
    "z.backward()\n",
    "print(x.grad) # dz/dx"
   ]
  },
  {
   "cell_type": "code",
   "execution_count": 5,
   "metadata": {
    "colab": {
     "base_uri": "https://localhost:8080/"
    },
    "executionInfo": {
     "elapsed": 2,
     "status": "ok",
     "timestamp": 1626357216079,
     "user": {
      "displayName": "Hung An Minh",
      "photoUrl": "",
      "userId": "05267040817390776748"
     },
     "user_tz": -420
    },
    "id": "SLsBYEbJbnNH",
    "outputId": "0c221d77-76db-4080-a727-aec8bfc38fc6"
   },
   "outputs": [
    {
     "name": "stdout",
     "output_type": "stream",
     "text": [
      "tensor([ 0.4846,  0.0880, -0.5263,  0.2252,  2.1583], requires_grad=True)\n",
      "tensor([  992.5316,   180.1993, -1077.7963,   461.1786,  4420.2441],\n",
      "       grad_fn=<MulBackward0>)\n",
      "torch.Size([5])\n"
     ]
    }
   ],
   "source": [
    "x = torch.randn(5, requires_grad=True)\n",
    "print(x)\n",
    "y = x*2\n",
    "for _ in range(10):\n",
    "  y = y * 2\n",
    "\n",
    "print(y)\n",
    "print(y.shape)"
   ]
  },
  {
   "cell_type": "code",
   "execution_count": 15,
   "metadata": {
    "colab": {
     "base_uri": "https://localhost:8080/"
    },
    "executionInfo": {
     "elapsed": 299,
     "status": "ok",
     "timestamp": 1626357218060,
     "user": {
      "displayName": "Hung An Minh",
      "photoUrl": "",
      "userId": "05267040817390776748"
     },
     "user_tz": -420
    },
    "id": "6GsvmmnucFuO",
    "outputId": "5ea62e49-17e7-47f3-de7b-dcfa82711906"
   },
   "outputs": [
    {
     "name": "stdout",
     "output_type": "stream",
     "text": [
      "tensor([2.0480e+02, 2.0480e+03, 2.0480e-01, 2.0480e+01, 2.0480e+00])\n"
     ]
    }
   ],
   "source": [
    "w = torch.tensor([0.1, 1.0, 0.0001, 0.01, 0.001], dtype=torch.float32)\n",
    "y.backward(w)\n",
    "print(x.grad)"
   ]
  },
  {
   "cell_type": "markdown",
   "metadata": {
    "id": "0GqR7LrqcxpP"
   },
   "source": [
    "# 3 - Stop a tensor from tracking history"
   ]
  },
  {
   "cell_type": "markdown",
   "metadata": {
    "id": "6Bcd6V3Uc5K-"
   },
   "source": [
    "Trong quá trình huấn luyện, khi chúng ta muốn cập nhật trọng số thì thao tác cập nhật này không nên là một phần của phép tính đạo hàm. Chúng ta có 3 sự lựa chọn cho việc dừng quá trình đạo hàm và cập nhật tham số như sau:\n",
    "- x.requires_grad_false()\n",
    "- x.detach()\n",
    "- wrap in with torch.no_grad():"
   ]
  },
  {
   "cell_type": "markdown",
   "metadata": {
    "id": "ZR8X6xtffX54"
   },
   "source": [
    "**.requires_grad_(...) thay đổi yêu cầu ngay tại vị trí cần yêu cầu đạo hàm**"
   ]
  },
  {
   "cell_type": "code",
   "execution_count": 6,
   "metadata": {
    "colab": {
     "base_uri": "https://localhost:8080/"
    },
    "executionInfo": {
     "elapsed": 4,
     "status": "ok",
     "timestamp": 1626357837496,
     "user": {
      "displayName": "Hung An Minh",
      "photoUrl": "",
      "userId": "05267040817390776748"
     },
     "user_tz": -420
    },
    "id": "X6bXhARNc4As",
    "outputId": "ff143277-6795-419c-9c67-7858c110cfbd"
   },
   "outputs": [
    {
     "name": "stdout",
     "output_type": "stream",
     "text": [
      "False\n",
      "None\n",
      "True\n",
      "<SumBackward0 object at 0x000001851D7FA110>\n"
     ]
    }
   ],
   "source": [
    "# requires_grad_()\n",
    "a = torch.rand(2, 2)\n",
    "print(a.requires_grad) # Kiểm tra a đã được yêu cầu tính đạo hàm hay chưa\n",
    "b = (a*5) / (a-1)\n",
    "print(b.grad_fn) # Do a chưa tính đạo hàm nên grad_fn lúc này sẽ là None \n",
    "a.requires_grad_(True) # thiết lập tính đạo hàm cho a \n",
    "print(a.requires_grad) \n",
    "b = (a**2).sum()\n",
    "print(b.grad_fn) # Sau khi thiết lập đạo hàm cho a. Thì phép tính b trên a sẽ nhận được grad_fn"
   ]
  },
  {
   "cell_type": "markdown",
   "metadata": {
    "id": "Zb3TfvU3faaY"
   },
   "source": [
    "**.detach(): Lấy một tensor mới với nội dung tương tự nhưng không yêu cầu tính đạo hàm**"
   ]
  },
  {
   "cell_type": "code",
   "execution_count": 18,
   "metadata": {
    "colab": {
     "base_uri": "https://localhost:8080/"
    },
    "executionInfo": {
     "elapsed": 2,
     "status": "ok",
     "timestamp": 1626358149840,
     "user": {
      "displayName": "Hung An Minh",
      "photoUrl": "",
      "userId": "05267040817390776748"
     },
     "user_tz": -420
    },
    "id": "FHlUpVB_feFW",
    "outputId": "977f8a21-be41-40e1-c184-e35c8967d436"
   },
   "outputs": [
    {
     "name": "stdout",
     "output_type": "stream",
     "text": [
      "True\n",
      "tensor([[0.2102, 0.7872],\n",
      "        [0.6593, 0.0418]], requires_grad=True)\n",
      "False\n",
      "tensor([[0.2102, 0.7872],\n",
      "        [0.6593, 0.0418]])\n"
     ]
    }
   ],
   "source": [
    "a = torch.rand(2, 2, requires_grad=True)\n",
    "print(a.requires_grad)\n",
    "print(a)\n",
    "b = a.detach()\n",
    "print(b.requires_grad)\n",
    "print(b)"
   ]
  },
  {
   "cell_type": "markdown",
   "metadata": {
    "id": "nfVEkCbZgBA4"
   },
   "source": [
    "**wrap in with torch.no_grad()**"
   ]
  },
  {
   "cell_type": "code",
   "execution_count": 19,
   "metadata": {
    "colab": {
     "base_uri": "https://localhost:8080/"
    },
    "executionInfo": {
     "elapsed": 3,
     "status": "ok",
     "timestamp": 1626358250932,
     "user": {
      "displayName": "Hung An Minh",
      "photoUrl": "",
      "userId": "05267040817390776748"
     },
     "user_tz": -420
    },
    "id": "taDEBasWgDs_",
    "outputId": "06482288-cbbc-4bed-be73-e1f29ab29995"
   },
   "outputs": [
    {
     "name": "stdout",
     "output_type": "stream",
     "text": [
      "True\n",
      "False\n"
     ]
    }
   ],
   "source": [
    "a = torch.rand(2, 2, requires_grad=True)\n",
    "print(a.requires_grad)\n",
    "with torch.no_grad():\n",
    "  print((x + 2).requires_grad)"
   ]
  },
  {
   "cell_type": "markdown",
   "metadata": {
    "id": "3E3E0C-Tgcsg"
   },
   "source": [
    "# 4 - Empty gradients"
   ]
  },
  {
   "cell_type": "markdown",
   "metadata": {
    "id": "4tiiq_Nlgnmx"
   },
   "source": [
    "Với backward() ta sẽ có đạo hàm tích lũy bên trong thuộc tính *.grad*. Chúng ta cần cẩn thận với nó trong quá trình tối ưu.\n",
    "-> Sử dụng *.zero_()* cho đạo hàm trước khi bắt đầu bước tối ưu - điều này sẽ tránh lưu lại kết quả của lần đạo hàm trước đó. "
   ]
  },
  {
   "cell_type": "code",
   "execution_count": 7,
   "metadata": {
    "id": "oTxRNXK6hDy2"
   },
   "outputs": [
    {
     "name": "stdout",
     "output_type": "stream",
     "text": [
      "tensor([5., 5., 5., 5.])\n",
      "tensor([5., 5., 5., 5.])\n",
      "tensor([5., 5., 5., 5.])\n",
      "tensor([5., 5., 5., 5.])\n",
      "tensor([5., 5., 5., 5.])\n"
     ]
    }
   ],
   "source": [
    "weights = torch.ones(4, requires_grad=True)\n",
    "\n",
    "for epoch in range(5):\n",
    "  model_output = (weights*5).sum()\n",
    "  model_output.backward()\n",
    "\n",
    "  print(weights.grad) \n",
    "  # Tối ưu model bằng cách cập nhật trọng số sau khi đạo hàm\n",
    "  with torch.no_grad():\n",
    "    weights -= 0.001 * weights.grad\n",
    "  \n",
    "  weights.grad.zero_() # sử dụng empty gradients trước khi bắt đầu một lần tối ưu tiếp theo."
   ]
  }
 ],
 "metadata": {
  "colab": {
   "authorship_tag": "ABX9TyNOldNUulRK1zB+qhDTGCyn",
   "collapsed_sections": [],
   "name": "Autograd.ipynb",
   "provenance": []
  },
  "kernelspec": {
   "display_name": ".venv",
   "language": "python",
   "name": "python3"
  },
  "language_info": {
   "codemirror_mode": {
    "name": "ipython",
    "version": 3
   },
   "file_extension": ".py",
   "mimetype": "text/x-python",
   "name": "python",
   "nbconvert_exporter": "python",
   "pygments_lexer": "ipython3",
   "version": "3.12.9"
  }
 },
 "nbformat": 4,
 "nbformat_minor": 0
}
